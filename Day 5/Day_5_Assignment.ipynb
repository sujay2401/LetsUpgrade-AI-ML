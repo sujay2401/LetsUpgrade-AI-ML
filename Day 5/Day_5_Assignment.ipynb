{
 "cells": [
  {
   "cell_type": "code",
   "execution_count": 36,
   "metadata": {},
   "outputs": [
    {
     "name": "stdout",
     "output_type": "stream",
     "text": [
      "Enter the firts number: 600\n",
      "Enter the end number: 1000\n",
      "601 607 613 617 619 631 641 643 647 653 659 661 673 677 683 691 701 709 719 727 "
     ]
    }
   ],
   "source": [
    "# Question 1: Write a Python program to find the first 20 non-even prime natural numbers.\n",
    "\n",
    "def isPrime(n):\n",
    "    if (n<=1):\n",
    "        return False\n",
    "    for i in range(2,n):\n",
    "        if (n%i == 0):\n",
    "            return False\n",
    "    return True\n",
    "\n",
    "list = []\n",
    "startNo =  int(input('Enter the firts number: '))\n",
    "endNo =  int(input('Enter the end number: '))\n",
    "for i in range(startNo,endNo):\n",
    "    if (isPrime(i)== True) and ((i%2)!=0):\n",
    "        list.append(i)\n",
    "\n",
    "\n",
    "#num = int(input('Enter the number till where the prime number to be printed? :))\n",
    "\n",
    "for n in list[:20]:\n",
    "    print(n,end=' ')"
   ]
  },
  {
   "cell_type": "code",
   "execution_count": 104,
   "metadata": {},
   "outputs": [
    {
     "name": "stdout",
     "output_type": "stream",
     "text": [
      "Atharv\n",
      "SSatharvSS\n",
      "1\n",
      "2 1 20\n",
      "string lets is found in index number:  8\n",
      "False\n",
      "True\n",
      "islower(): False\n",
      "isspace(): False\n",
      "istitle(): True\n",
      "isupper(): False\n",
      "join():  world letsUpgraders Hello\n",
      "lower: hello sujay\n",
      "upper: HELLO SUJAY\n",
      "swapcase() HELLO, MY NAME IS sUJAY, i LEAVE IN bANGALORE\n",
      "title() Hello, My Name Is Sujay, I Leave In Bangalore\n",
      "split: ['hello', 'my name is Sujay', 'I leave in Bangalore']\n",
      "strip(): Sujay\n"
     ]
    }
   ],
   "source": [
    "#Question 2: Write a Python program to implement 15 functions of string.\n",
    "\n",
    "str1 = 'atharv'\n",
    "print(str1.capitalize()) # function to capitalize first letter of the word\n",
    "print(str1.center(10,'S'))#function to add a letter with string in center.\n",
    "#2\n",
    "str2 = 'Hello,  lets Upgraders lets say hello'\n",
    "print (str2.count('Hello'))#Print string occurence in a phrase\n",
    "print (str2.count('lets'),1,20)#Print string occurence in a phrase\n",
    "print('string','''lets''','is found in index number: ',str2.find('lets'))\n",
    "#4\n",
    "str3 = \"He His Age Is 24\"\n",
    "str4 = '2312'\n",
    "str5 = \"HE HIS AN ERROr\"\n",
    "print(str3.isdigit())\n",
    "print(str4.isdigit())\n",
    "print('islower():',str3.islower()) #returns true only if a string if all the characters are in lower case else false\n",
    "print('isspace():',str3.isspace())\n",
    "print('istitle():',str3.istitle()) #returns true only if all the words in phrase is starting with special characters\n",
    "print('isupper():',str5.isupper())#returns true only if string contain oly upper case phrase\n",
    "#8\n",
    "\n",
    "str6 = {'world','Hello'}\n",
    "joiner = ' letsUpgraders '\n",
    "\n",
    "print('join(): ',joiner.join(str6))\n",
    "#9\n",
    "str7 = 'hello Sujay'\n",
    "print('lower:',str7.lower())\n",
    "print('upper:', str7.upper())\n",
    "#11\n",
    "txt = \"hello, my name is Sujay, I leave in Bangalore\"\n",
    "print('swapcase()',txt.swapcase()) #returns the string by convering to lower case if in upper case and visa versa\n",
    "print('title()',txt.title()) #returns the string by convering to lower case if in upper case and visa versa\n",
    "print('split:', txt.split(\", \"))\n",
    "str8 = '         Sujay         '\n",
    "print('strip():',str8.strip())\n",
    "#15\n",
    "\n"
   ]
  },
  {
   "cell_type": "code",
   "execution_count": 128,
   "metadata": {},
   "outputs": [
    {
     "name": "stdout",
     "output_type": "stream",
     "text": [
      "Enter a string:12321\n",
      "12321 is a palindrome\n"
     ]
    }
   ],
   "source": [
    "#Question 3: Write a Python program to check if the given string is a Palindrome or Anagram or None of them. \n",
    "#Display the message accordingly to the user.\n",
    "\n",
    "def isPalidromeOrAnagram(s):\n",
    "    revs = s[::-1]\n",
    "    n1 = len(s)\n",
    "    n2 = len(revs)\n",
    "    str1 = sorted(s)\n",
    "    str2 = sorted(revs)\n",
    "    \n",
    "    if (s==revs):\n",
    "        print(s,'is a palindrome')\n",
    "    else:\n",
    "        for i in range(0,n1):\n",
    "            if str1[i]!=str2[i]:\n",
    "                return 0\n",
    "        print(s,'is a Anagram')                    \n",
    "    \n",
    "\n",
    "string = input(\"Enter a string:\")\n",
    "isPalidromeOrAnagram(string)\n",
    "    "
   ]
  },
  {
   "cell_type": "code",
   "execution_count": 142,
   "metadata": {},
   "outputs": [
    {
     "name": "stdout",
     "output_type": "stream",
     "text": [
      "Enter a phrase:  HI, There is fire in @ downstreet California\n",
      "hithereisfireindownstreetcalifornia\n"
     ]
    }
   ],
   "source": [
    "'''Question 4: Write a Python's user defined function that removes all the additional characters from the string and converts \n",
    "it finally to lower case using built-in lower(). eg: If the string is \"Dr. Darshan Ingle\n",
    "@AI-ML Trainer\", then the output be \"drdarshaningleaimltrainer\".'''\n",
    "\n",
    "import re\n",
    "\n",
    "def function(string):\n",
    "    s1 = re.sub('[^A-Za-z0-9]+', '', string)\n",
    "    print(s1.lower())\n",
    "    #print(string.replace(\" \",\"\").lower())\n",
    "\n",
    "str = input(\"Enter a phrase: \")\n",
    "function(str)\n"
   ]
  }
 ],
 "metadata": {
  "kernelspec": {
   "display_name": "Python 3",
   "language": "python",
   "name": "python3"
  },
  "language_info": {
   "codemirror_mode": {
    "name": "ipython",
    "version": 3
   },
   "file_extension": ".py",
   "mimetype": "text/x-python",
   "name": "python",
   "nbconvert_exporter": "python",
   "pygments_lexer": "ipython3",
   "version": "3.7.0"
  }
 },
 "nbformat": 4,
 "nbformat_minor": 2
}
