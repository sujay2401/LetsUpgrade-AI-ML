{
 "cells": [
  {
   "cell_type": "code",
   "execution_count": 8,
   "metadata": {},
   "outputs": [
    {
     "name": "stdout",
     "output_type": "stream",
     "text": [
      "Addition of two complex number a and b is (8-2j)\n",
      "Substraction of two complex number a and b is (-4+22j)\n",
      "Multiplication of two complex number a and b is (132+36j)\n",
      "Division of two complex number a and b is (-0.6+0.4666666666666667j)\n"
     ]
    },
    {
     "ename": "TypeError",
     "evalue": "can't mod complex numbers.",
     "output_type": "error",
     "traceback": [
      "\u001b[1;31m---------------------------------------------------------------------------\u001b[0m",
      "\u001b[1;31mTypeError\u001b[0m                                 Traceback (most recent call last)",
      "\u001b[1;32m<ipython-input-8-48a7fa91c341>\u001b[0m in \u001b[0;36m<module>\u001b[1;34m()\u001b[0m\n\u001b[0;32m     11\u001b[0m \u001b[0mprint\u001b[0m\u001b[1;33m(\u001b[0m\u001b[1;34m'Division of two complex number a and b is'\u001b[0m\u001b[1;33m,\u001b[0m\u001b[0ma\u001b[0m\u001b[1;33m/\u001b[0m\u001b[0mb\u001b[0m\u001b[1;33m)\u001b[0m\u001b[1;33m\u001b[0m\u001b[0m\n\u001b[0;32m     12\u001b[0m \u001b[1;31m#print('floorDivision of two complex number a and b is',a//b)\u001b[0m\u001b[1;33m\u001b[0m\u001b[1;33m\u001b[0m\u001b[0m\n\u001b[1;32m---> 13\u001b[1;33m \u001b[0mprint\u001b[0m\u001b[1;33m(\u001b[0m\u001b[1;34m'Modulo of two complex number a and b is'\u001b[0m\u001b[1;33m,\u001b[0m\u001b[0ma\u001b[0m\u001b[1;33m%\u001b[0m\u001b[0mb\u001b[0m\u001b[1;33m)\u001b[0m\u001b[1;33m\u001b[0m\u001b[0m\n\u001b[0m",
      "\u001b[1;31mTypeError\u001b[0m: can't mod complex numbers."
     ]
    }
   ],
   "source": [
    "#Question 1 :Research on whether addition, subtraction, multiplication, division, floor division and modulo \n",
    "#operations be performed on complex numbers. Based on your study, implement a Python\n",
    "#program to demonstrate these operations.\n",
    "\n",
    "a = 2+10j\n",
    "b = 6-12j\n",
    "\n",
    "print('Addition of two complex number a and b is',a+b)\n",
    "print('Substraction of two complex number a and b is',a-b)\n",
    "print('Multiplication of two complex number a and b is',a*b)\n",
    "print('Division of two complex number a and b is',a/b)\n",
    "#print('floorDivision of two complex number a and b is',a//b)\n",
    "print('Modulo of two complex number a and b is',a%b)\n",
    "\n"
   ]
  },
  {
   "cell_type": "markdown",
   "metadata": {},
   "source": [
    "'''Question 2 - Research on range() functions and its parameters. Create a markdown cell and write in your own\n",
    "words (no copy-paste from google please) what you understand about it. Implement a small\n",
    "program of your choice on the same.'''\n",
    "\n",
    "#_*Range() :*_\n",
    "<io>\n",
    "    <li>Built-in function</li>\n",
    "    <li>Used to perform an action for a specific number of times in python</li>\n",
    "    <li>It allows user to generate series of numbers within a given range</li>\n",
    "</io>"
   ]
  },
  {
   "cell_type": "code",
   "execution_count": 10,
   "metadata": {},
   "outputs": [
    {
     "name": "stdout",
     "output_type": "stream",
     "text": [
      "0\n",
      "1\n",
      "2\n",
      "3\n",
      "4\n",
      "5\n",
      "6\n",
      "7\n",
      "8\n",
      "9\n"
     ]
    }
   ],
   "source": [
    "#Example for range()\n",
    "\n",
    "for i in range(10):\n",
    "    print(i)\n",
    "    \n"
   ]
  },
  {
   "cell_type": "code",
   "execution_count": 14,
   "metadata": {},
   "outputs": [
    {
     "name": "stdout",
     "output_type": "stream",
     "text": [
      "Enter the first number:100\n",
      "Enter the second number lesser than frist one:50\n",
      "Mult of two number 5000\n"
     ]
    }
   ],
   "source": [
    "#Question 3: Consider two numbers. Perform their subtraction and if the result of subtraction is greater than\n",
    "# 25, print their multiplication result else print their division result.\n",
    "\n",
    "firstNum = int(input('Enter the first number:'))\n",
    "secondNum = int(input('Enter the second number lesser than frist one:'))\n",
    "\n",
    "diff = firstNum-secondNum\n",
    "\n",
    "if (diff > 25):\n",
    "    print('Mult of two number',firstNum*secondNum)\n",
    "else:\n",
    "    print('Div of two number',firstNum/secondNum)\n"
   ]
  },
  {
   "cell_type": "code",
   "execution_count": 25,
   "metadata": {},
   "outputs": [
    {
     "name": "stdout",
     "output_type": "stream",
     "text": [
      "Sorry no answer..\n",
      "-1\n",
      "Sorry no answer..\n",
      "7\n",
      "Sorry no answer..\n",
      "23\n",
      "Sorry no answer..\n",
      "47\n",
      "Sorry no answer..\n",
      "79\n"
     ]
    }
   ],
   "source": [
    "#Question 4: Consider a list of 10 elements of integer values. If the number in the list is divisible by 2, print the\n",
    "#result as \"square of that number minus 2\".\n",
    "\n",
    "number = range(10)\n",
    "\n",
    "for i in number:\n",
    "   if (i % 2):\n",
    "    print((i*i)-2)\n",
    "   else:\n",
    "    print('Sorry no answer..')\n",
    "    \n"
   ]
  },
  {
   "cell_type": "code",
   "execution_count": 44,
   "metadata": {},
   "outputs": [
    {
     "name": "stdout",
     "output_type": "stream",
     "text": [
      "3 is not divisible by 2\n",
      "The number 6 is less than 7\n",
      "9 is not divisible by 2\n",
      "12 is divisible by 2 and greater than 7\n",
      "15 is not divisible by 2\n",
      "18 is divisible by 2 and greater than 7\n",
      "21 is not divisible by 2\n",
      "24 is divisible by 2 and greater than 7\n",
      "27 is not divisible by 2\n",
      "30 is divisible by 2 and greater than 7\n"
     ]
    }
   ],
   "source": [
    "#Question 5: Consider a list of 10 elements. Print all the elements in the list which are greater than 7 when that\n",
    "# number is divided 2.\n",
    "\n",
    "num = [3,6,9,12,15,18,21,24,27,30]\n",
    "for i in num:\n",
    "    if (i%2==0) and (i>7):\n",
    "        if (i>7):\n",
    "            print(i,'is divisible by 2 and greater than 7')\n",
    "        else:\n",
    "            print('The number',i,'is less than 7')\n",
    "    else:  \n",
    "        print(i,'is not divisible by 2')"
   ]
  }
 ],
 "metadata": {
  "kernelspec": {
   "display_name": "Python 3",
   "language": "python",
   "name": "python3"
  },
  "language_info": {
   "codemirror_mode": {
    "name": "ipython",
    "version": 3
   },
   "file_extension": ".py",
   "mimetype": "text/x-python",
   "name": "python",
   "nbconvert_exporter": "python",
   "pygments_lexer": "ipython3",
   "version": "3.7.0"
  }
 },
 "nbformat": 4,
 "nbformat_minor": 2
}
