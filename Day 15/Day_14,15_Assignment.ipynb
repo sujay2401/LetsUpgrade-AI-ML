{
 "cells": [
  {
   "cell_type": "markdown",
   "metadata": {},
   "source": [
    "# 1. Create a 3x3x3 array with random values "
   ]
  },
  {
   "cell_type": "code",
   "execution_count": 215,
   "metadata": {},
   "outputs": [
    {
     "name": "stdout",
     "output_type": "stream",
     "text": [
      "[[[0.47981306 0.95537066 0.46301871]\n",
      "  [0.55602456 0.68967773 0.34526813]\n",
      "  [0.03484685 0.76690839 0.71484483]]\n",
      "\n",
      " [[0.72747227 0.97780961 0.49208884]\n",
      "  [0.45023742 0.28960985 0.4527397 ]\n",
      "  [0.44867226 0.33239816 0.94487144]]\n",
      "\n",
      " [[0.13931527 0.06135434 0.52889971]\n",
      "  [0.16481607 0.46833689 0.49941778]\n",
      "  [0.80744565 0.97176591 0.44230765]]]\n"
     ]
    }
   ],
   "source": [
    "import numpy as np\n",
    "\n",
    "x = np.random.random((3,3,3))\n",
    "\n",
    "print(x)"
   ]
  },
  {
   "cell_type": "markdown",
   "metadata": {},
   "source": [
    "# 2.Create a 5x5 matrix with values 1,2,3,4 just below the diagonal"
   ]
  },
  {
   "cell_type": "code",
   "execution_count": 16,
   "metadata": {},
   "outputs": [
    {
     "data": {
      "text/plain": [
       "array([[0, 0, 0, 0, 0],\n",
       "       [1, 0, 0, 0, 0],\n",
       "       [0, 2, 0, 0, 0],\n",
       "       [0, 0, 3, 0, 0],\n",
       "       [0, 0, 0, 4, 0]])"
      ]
     },
     "execution_count": 16,
     "metadata": {},
     "output_type": "execute_result"
    }
   ],
   "source": [
    "x = np.array([1,2,3,4])\n",
    "y = np.diag(x, k=-1)\n",
    "y"
   ]
  },
  {
   "cell_type": "markdown",
   "metadata": {},
   "source": [
    "# 3.Create a 8x8 matrix and fill it with a checkerboard pattern"
   ]
  },
  {
   "cell_type": "code",
   "execution_count": 21,
   "metadata": {},
   "outputs": [
    {
     "data": {
      "text/plain": [
       "array([[0., 1., 0., 1., 0., 1., 0., 1.],\n",
       "       [1., 0., 1., 0., 1., 0., 1., 0.],\n",
       "       [0., 1., 0., 1., 0., 1., 0., 1.],\n",
       "       [1., 0., 1., 0., 1., 0., 1., 0.],\n",
       "       [0., 1., 0., 1., 0., 1., 0., 1.],\n",
       "       [1., 0., 1., 0., 1., 0., 1., 0.],\n",
       "       [0., 1., 0., 1., 0., 1., 0., 1.],\n",
       "       [1., 0., 1., 0., 1., 0., 1., 0.]])"
      ]
     },
     "execution_count": 21,
     "metadata": {},
     "output_type": "execute_result"
    }
   ],
   "source": [
    "b = np.zeros((8,8))\n",
    "b[1::2,::2] = 1\n",
    "b[::2, 1::2]= 1\n",
    "b"
   ]
  },
  {
   "cell_type": "markdown",
   "metadata": {},
   "source": [
    "# 4. Normalize a 5x5 random matrix"
   ]
  },
  {
   "cell_type": "code",
   "execution_count": 43,
   "metadata": {},
   "outputs": [
    {
     "data": {
      "text/plain": [
       "array([[0.90510877, 0.83585683, 0.81794724, 1.        , 0.30111835],\n",
       "       [0.        , 0.99108144, 0.10283679, 0.45507866, 0.43107071],\n",
       "       [0.09211681, 0.17565303, 0.16340824, 0.15929999, 0.54680126],\n",
       "       [0.31307272, 0.43597979, 0.91887617, 0.62481674, 0.26412714],\n",
       "       [0.45006664, 0.1182058 , 0.39266259, 0.81332897, 0.99851978]])"
      ]
     },
     "execution_count": 43,
     "metadata": {},
     "output_type": "execute_result"
    }
   ],
   "source": [
    "c = np.random.random((5,5))\n",
    "Cmax,Cmin=c.max(),c.min()\n",
    "c= (c-Cmin)/(Cmax-Cmin)\n",
    "c"
   ]
  },
  {
   "cell_type": "markdown",
   "metadata": {},
   "source": [
    "# 5.  How to find common values between two arrays?"
   ]
  },
  {
   "cell_type": "code",
   "execution_count": 44,
   "metadata": {},
   "outputs": [
    {
     "data": {
      "text/plain": [
       "array([4, 8])"
      ]
     },
     "execution_count": 44,
     "metadata": {},
     "output_type": "execute_result"
    }
   ],
   "source": [
    "a = np.array([2,4,6,8,10])\n",
    "b = np.array([4,8,12,16,20])\n",
    "c = np.intersect1d(a,b)\n",
    "c"
   ]
  },
  {
   "cell_type": "markdown",
   "metadata": {},
   "source": [
    "# 6.How to get the dates of yesterday, today and tomorrow?"
   ]
  },
  {
   "cell_type": "code",
   "execution_count": 55,
   "metadata": {},
   "outputs": [
    {
     "name": "stdout",
     "output_type": "stream",
     "text": [
      "Todays Date:  2020-07-25\n",
      "Yesturday Date:  2020-07-24\n",
      "Tomorrow Date:  2020-07-26\n"
     ]
    }
   ],
   "source": [
    "today = np.datetime64('today')\n",
    "yesturday = today - np.timedelta64(1)\n",
    "tomorrow = today + np.timedelta64(1)\n",
    "print('Todays Date: ',today)\n",
    "print('Yesturday Date: ',yesturday)\n",
    "print('Tomorrow Date: ',tomorrow)"
   ]
  },
  {
   "cell_type": "markdown",
   "metadata": {},
   "source": [
    "# 7. Consider two random array A and B, check if they are equal"
   ]
  },
  {
   "cell_type": "code",
   "execution_count": 71,
   "metadata": {},
   "outputs": [
    {
     "name": "stdout",
     "output_type": "stream",
     "text": [
      "Equals check True\n",
      "Unequals check False\n"
     ]
    }
   ],
   "source": [
    "Arr1 = np.random.randint(2,3,4)\n",
    "Arr3 = np.random.randint(2,3,4)\n",
    "Arr2 = np.random.randint(2,5,4)\n",
    "EqCheck = np.allclose(Arr1,Arr3)\n",
    "NEqCheck = np.allclose(Arr1,Arr2)\n",
    "print('Equals check',EqCheck)\n",
    "print('Unequals check',NEqCheck)"
   ]
  },
  {
   "cell_type": "markdown",
   "metadata": {},
   "source": [
    "# 8.Create random vector of size 10 and replace the maximum value by 0 "
   ]
  },
  {
   "cell_type": "code",
   "execution_count": 85,
   "metadata": {},
   "outputs": [
    {
     "name": "stdout",
     "output_type": "stream",
     "text": [
      "[0.37283045 0.96542887 0.35025673 0.70981447 0.         0.55968057\n",
      " 0.66996216 0.88866314 0.12412023 0.54204539]\n"
     ]
    }
   ],
   "source": [
    "ran1 = np.random.random(10)\n",
    "ran1[ran1.argmax()] = 0\n",
    "print(ran1)"
   ]
  },
  {
   "cell_type": "markdown",
   "metadata": {},
   "source": [
    "# 9. How to print all the values of an array?"
   ]
  },
  {
   "cell_type": "code",
   "execution_count": 89,
   "metadata": {},
   "outputs": [
    {
     "name": "stdout",
     "output_type": "stream",
     "text": [
      "[[1. 1. 1. 1.]\n",
      " [1. 1. 1. 1.]\n",
      " [1. 1. 1. 1.]\n",
      " [1. 1. 1. 1.]]\n"
     ]
    }
   ],
   "source": [
    "arr = np.ones((4,4))\n",
    "print(arr)"
   ]
  },
  {
   "cell_type": "markdown",
   "metadata": {},
   "source": [
    "# 10.Subtract the mean of each row of a matrix"
   ]
  },
  {
   "cell_type": "code",
   "execution_count": 117,
   "metadata": {},
   "outputs": [
    {
     "name": "stdout",
     "output_type": "stream",
     "text": [
      "Original matrix:\n",
      "\n",
      "[[0.25956831 0.50891504 0.5338252  0.27350408]\n",
      " [0.21151515 0.8938227  0.84026648 0.80534527]\n",
      " [0.69612058 0.07669407 0.35239772 0.81566801]]\n",
      "\n",
      "Mean of Original Matrix:  0.5223035508254027\n",
      "\n",
      "Subtract the mean of each row of the said matrix:\n",
      "\n",
      "[[-0.26273524 -0.01338851  0.01152165 -0.24879947]\n",
      " [-0.3107884   0.37151915  0.31796293  0.28304172]\n",
      " [ 0.17381703 -0.44560948 -0.16990584  0.29336446]]\n"
     ]
    }
   ],
   "source": [
    "print(\"Original matrix:\\n\")\n",
    "X = np.random.rand(3,4)\n",
    "print(X)\n",
    "print('\\nMean of Original Matrix: ',X.mean())\n",
    "print(\"\\nSubtract the mean of each row of the said matrix:\\n\")\n",
    "Y = X - X.mean()\n",
    "#Y = X - X.mean(axis=1, keepdims=True)\n",
    "print(Y)"
   ]
  },
  {
   "cell_type": "markdown",
   "metadata": {},
   "source": [
    "# 11.Consider a given vector, how to add 1 to each element indexed by a second vector (be careful with repeated indices)? "
   ]
  },
  {
   "cell_type": "code",
   "execution_count": 169,
   "metadata": {},
   "outputs": [
    {
     "name": "stdout",
     "output_type": "stream",
     "text": [
      "I: [4 0 4 2 4 2 0]\n",
      "[3. 1. 3. 1. 4.]\n"
     ]
    }
   ],
   "source": [
    "vec = np.ones(5)\n",
    "\n",
    "I = np.random.randint(0,len(vec),7)\n",
    "print('I:', I)\n",
    "vec = vec + np.bincount(I, minlength=len(vec))\n",
    "print(vec)"
   ]
  },
  {
   "cell_type": "markdown",
   "metadata": {},
   "source": [
    "# 12.How to get the diagonal of a dot product?"
   ]
  },
  {
   "cell_type": "code",
   "execution_count": 221,
   "metadata": {},
   "outputs": [
    {
     "name": "stdout",
     "output_type": "stream",
     "text": [
      "dot product is: [[ -3  14]\n",
      " [  9 -35]]\n",
      "Diagnol of dot product is:  [ -3 -35]\n"
     ]
    }
   ],
   "source": [
    "u = [[2,-3],[1,9]]\n",
    "v = [[0,1],[1,-4]]\n",
    "\n",
    "w = np.dot(u,v)\n",
    "print('dot product is:',w)\n",
    "\n",
    "print('Diagnol of dot product is: ',np.diag(w))\n",
    "\n",
    "\n"
   ]
  },
  {
   "cell_type": "markdown",
   "metadata": {},
   "source": [
    "# 13.How to find the most frequent value in an array?"
   ]
  },
  {
   "cell_type": "code",
   "execution_count": 184,
   "metadata": {},
   "outputs": [
    {
     "name": "stdout",
     "output_type": "stream",
     "text": [
      "All number: [9 7 1 5 4 6 5 6 7 9 5 1 2 7 3 3 1 2 7 4 7 5 6 9 4]\n",
      "7\n"
     ]
    }
   ],
   "source": [
    "freqVal = np.random.randint(1,10,25)\n",
    "print('All number:',freqVal)\n",
    "print(np.bincount(freqVal).argmax())\n"
   ]
  },
  {
   "cell_type": "markdown",
   "metadata": {},
   "source": [
    "# 14.How to get the n largest values of an array"
   ]
  },
  {
   "cell_type": "code",
   "execution_count": 197,
   "metadata": {},
   "outputs": [
    {
     "name": "stdout",
     "output_type": "stream",
     "text": [
      "All number: [ 6  1  6 15 18  7 15  8  9 10]\n",
      "Index of an arry: [1 0 2 5 7 8 9 3 6 4]\n",
      "[18]\n"
     ]
    }
   ],
   "source": [
    "freqVal = np.random.randint(1,20,10)\n",
    "print('All number:',freqVal)\n",
    "print('Index of an arry:',np.argsort(freqVal))\n",
    "print(freqVal[np.argsort(freqVal)[-1:]])"
   ]
  },
  {
   "cell_type": "markdown",
   "metadata": {},
   "source": [
    "# 15.How to create a record array from a regular array?"
   ]
  },
  {
   "cell_type": "code",
   "execution_count": 214,
   "metadata": {},
   "outputs": [
    {
     "name": "stdout",
     "output_type": "stream",
     "text": [
      "Original arrays:\n",
      "[['Suresh' '82.5' '85']\n",
      " ['Ramesh' '68' '80']\n",
      " ['Jony' '87.3' '99']\n",
      " ['Reshma' '77.2' '95']]\n",
      "\n",
      "Record array;\n",
      "[('Suresh', '82.5', '85') ('Ramesh', '68', '80') ('Jony', '87.3', '99')\n",
      " ('Reshma', '77.2', '95')]\n"
     ]
    }
   ],
   "source": [
    "import numpy as np\n",
    "arra1 = np.array([(\"Suresh\", 82.5, 85),\n",
    "                 (\"Ramesh\", 68, 80),\n",
    "             (\"Jony\", 87.3, 99),\n",
    "                (\"Reshma\", 77.2, 95)])\n",
    "print(\"Original arrays:\")\n",
    "print(arra1)\n",
    "print(\"\\nRecord array;\")\n",
    "result = np.core.records.fromarrays(arra1.T,\n",
    "                              names='col1, col2, col3')\n",
    "print(result)"
   ]
  },
  {
   "cell_type": "code",
   "execution_count": 213,
   "metadata": {},
   "outputs": [
    {
     "name": "stdout",
     "output_type": "stream",
     "text": [
      "[(1, 'Abs', 30) (2, 'Chest', 34) (3, 'biceps', 15) (4, 'triceps',  5)]\n",
      "[1 2 3 4]\n",
      "['Abs' 'Chest' 'biceps' 'triceps']\n",
      "[30 34 15  5]\n"
     ]
    }
   ],
   "source": [
    "x1=np.array([1,2,3,4])\n",
    "x2=np.array(['Abs','Chest','biceps','triceps'])\n",
    "x3=np.array([30,34,15,5])\n",
    "r = np.core.records.fromarrays([x1,x2,x3],names='a,b,c')\n",
    "print(r)\n",
    "print(r.a)\n",
    "print(r.b)\n",
    "print(r.c)"
   ]
  }
 ],
 "metadata": {
  "kernelspec": {
   "display_name": "Python 3",
   "language": "python",
   "name": "python3"
  },
  "language_info": {
   "codemirror_mode": {
    "name": "ipython",
    "version": 3
   },
   "file_extension": ".py",
   "mimetype": "text/x-python",
   "name": "python",
   "nbconvert_exporter": "python",
   "pygments_lexer": "ipython3",
   "version": "3.7.0"
  }
 },
 "nbformat": 4,
 "nbformat_minor": 2
}
