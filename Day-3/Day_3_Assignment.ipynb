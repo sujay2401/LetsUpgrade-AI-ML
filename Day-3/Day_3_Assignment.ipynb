{
 "cells": [
  {
   "cell_type": "code",
   "execution_count": 5,
   "metadata": {},
   "outputs": [
    {
     "name": "stdout",
     "output_type": "stream",
     "text": [
      "Output for Subtraction is: (1+4j)\n"
     ]
    }
   ],
   "source": [
    "#Question 1: Write a program to subtract two complex numbers in Python\n",
    "\n",
    "a = 4+6j\n",
    "b = 3+2j\n",
    "print(\"Output for Subtraction is:\",a-b)"
   ]
  },
  {
   "cell_type": "code",
   "execution_count": 10,
   "metadata": {},
   "outputs": [
    {
     "name": "stdout",
     "output_type": "stream",
     "text": [
      "Enter the number for which fouth root to be found?16\n",
      "Output for number 16  passed is:  2.0\n"
     ]
    }
   ],
   "source": [
    "#Question 2: Write a program to find the fourth root of a number.\n",
    "\n",
    "number = int(input(\"Enter the number for which fouth root to be found?\"))\n",
    "output = number**(1/4)\n",
    "print(\"Output for number\",number,\" passed is: \",output)\n"
   ]
  },
  {
   "cell_type": "code",
   "execution_count": 14,
   "metadata": {},
   "outputs": [
    {
     "name": "stdout",
     "output_type": "stream",
     "text": [
      "Enter first number: 99\n",
      "Enter second number: 100\n",
      "Before Swap -  First number is: 99 . Second Number is: 100\n",
      "After Swap -  First number is: 100 . Second Number is: 99\n"
     ]
    }
   ],
   "source": [
    "#Question 3: Write a program to swap two numbers in Python with the help of a temporary variable.\n",
    "\n",
    "firstNumber = int(input('Enter first number: '))\n",
    "secondNumber = int(input('Enter second number: '))\n",
    "print('Before Swap - ','First number is:',firstNumber,'. Second Number is:',secondNumber )\n",
    "temp = firstNumber\n",
    "firstNumber = secondNumber\n",
    "secondNumber = temp\n",
    "print('After Swap - ','First number is:',firstNumber,'. Second Number is:',secondNumber )\n",
    "\n",
    "\n"
   ]
  },
  {
   "cell_type": "code",
   "execution_count": 24,
   "metadata": {},
   "outputs": [
    {
     "name": "stdout",
     "output_type": "stream",
     "text": [
      "Enter first number: 88\n",
      "Enter second number: 99\n",
      "Before Swap -  First number is: 88 . Second Number is: 99\n",
      "After Swap -  First number is: 99 . Second Number is: 88\n"
     ]
    }
   ],
   "source": [
    "#Question 4: Write a program to swap two numbers in Python without using a temporary variable.\n",
    "\n",
    "firstNumber = int(input('Enter first number: '))\n",
    "secondNumber = int(input('Enter second number: '))\n",
    "print('Before Swap - ','First number is:',firstNumber,'. Second Number is:',secondNumber )\n",
    "firstNumber = firstNumber+secondNumber\n",
    "secondNumber = firstNumber-secondNumber\n",
    "firstNumber =  -(secondNumber-firstNumber)\n",
    "\n",
    "print('After Swap - ','First number is:',firstNumber,'. Second Number is:',secondNumber )"
   ]
  },
  {
   "cell_type": "code",
   "execution_count": 13,
   "metadata": {},
   "outputs": [
    {
     "name": "stdout",
     "output_type": "stream",
     "text": [
      "Enter the temperature in fahrenheit10\n",
      "Enter the choice, k for Kelvin or c for Celsiusk\n"
     ]
    },
    {
     "ename": "NameError",
     "evalue": "name 'F' is not defined",
     "output_type": "error",
     "traceback": [
      "\u001b[1;31m---------------------------------------------------------------------------\u001b[0m",
      "\u001b[1;31mNameError\u001b[0m                                 Traceback (most recent call last)",
      "\u001b[1;32m<ipython-input-13-f0bc66ee2b34>\u001b[0m in \u001b[0;36m<module>\u001b[1;34m()\u001b[0m\n\u001b[0;32m      5\u001b[0m \u001b[1;33m\u001b[0m\u001b[0m\n\u001b[0;32m      6\u001b[0m \u001b[1;32mif\u001b[0m \u001b[1;33m(\u001b[0m\u001b[0mchoice\u001b[0m \u001b[1;33m==\u001b[0m \u001b[1;34m'k'\u001b[0m\u001b[1;33m)\u001b[0m\u001b[1;33m:\u001b[0m\u001b[1;33m\u001b[0m\u001b[0m\n\u001b[1;32m----> 7\u001b[1;33m     \u001b[0mprint\u001b[0m\u001b[1;33m(\u001b[0m\u001b[0mfahrenheitToKelvin\u001b[0m\u001b[1;33m(\u001b[0m\u001b[0mtemp\u001b[0m\u001b[1;33m)\u001b[0m\u001b[1;33m)\u001b[0m\u001b[1;33m\u001b[0m\u001b[0m\n\u001b[0m\u001b[0;32m      8\u001b[0m \u001b[1;32melif\u001b[0m \u001b[1;33m(\u001b[0m\u001b[0mchoice\u001b[0m \u001b[1;33m==\u001b[0m \u001b[1;34m'c'\u001b[0m\u001b[1;33m)\u001b[0m\u001b[1;33m:\u001b[0m\u001b[1;33m\u001b[0m\u001b[0m\n\u001b[0;32m      9\u001b[0m     \u001b[0mprint\u001b[0m\u001b[1;33m(\u001b[0m\u001b[0mKelvinToCelsius\u001b[0m\u001b[1;33m(\u001b[0m\u001b[0mfahrenheitToKelvin\u001b[0m\u001b[1;33m(\u001b[0m\u001b[0mtemp\u001b[0m\u001b[1;33m)\u001b[0m\u001b[1;33m)\u001b[0m\u001b[1;33m)\u001b[0m\u001b[1;33m\u001b[0m\u001b[0m\n",
      "\u001b[1;32m<ipython-input-1-87e3c08a7304>\u001b[0m in \u001b[0;36mfahrenheitToKelvin\u001b[1;34m(f)\u001b[0m\n\u001b[0;32m     13\u001b[0m \u001b[1;33m\u001b[0m\u001b[0m\n\u001b[0;32m     14\u001b[0m \u001b[1;32mdef\u001b[0m \u001b[0mfahrenheitToKelvin\u001b[0m\u001b[1;33m(\u001b[0m\u001b[0mf\u001b[0m\u001b[1;33m)\u001b[0m\u001b[1;33m:\u001b[0m\u001b[1;33m\u001b[0m\u001b[0m\n\u001b[1;32m---> 15\u001b[1;33m     \u001b[1;32mreturn\u001b[0m \u001b[1;36m273.5\u001b[0m \u001b[1;33m+\u001b[0m \u001b[1;33m(\u001b[0m\u001b[1;33m(\u001b[0m\u001b[0mF\u001b[0m \u001b[1;33m-\u001b[0m \u001b[1;36m32.0\u001b[0m\u001b[1;33m)\u001b[0m \u001b[1;33m*\u001b[0m \u001b[1;33m(\u001b[0m\u001b[1;36m5.0\u001b[0m\u001b[1;33m/\u001b[0m\u001b[1;36m9.0\u001b[0m\u001b[1;33m)\u001b[0m\u001b[1;33m)\u001b[0m\u001b[1;33m\u001b[0m\u001b[0m\n\u001b[0m\u001b[0;32m     16\u001b[0m \u001b[1;33m\u001b[0m\u001b[0m\n\u001b[0;32m     17\u001b[0m \u001b[1;32mdef\u001b[0m \u001b[0mKelvinToCelsius\u001b[0m\u001b[1;33m(\u001b[0m\u001b[0mk\u001b[0m\u001b[1;33m)\u001b[0m\u001b[1;33m:\u001b[0m\u001b[1;33m\u001b[0m\u001b[0m\n",
      "\u001b[1;31mNameError\u001b[0m: name 'F' is not defined"
     ]
    }
   ],
   "source": [
    "#Question 5: Write a program to convert fahrenheit to kelvin and celsius both.\n",
    "\n",
    "temp = int(input('Enter the temperature in fahrenheit'))\n",
    "choice = input('Enter the choice, k for Kelvin or c for Celsius')\n",
    "\n",
    "if (choice == 'k'):\n",
    "    print(fahrenheitToKelvin(temp))\n",
    "elif (choice == 'c'):\n",
    "    print(KelvinToCelsius(fahrenheitToKelvin(temp)))\n",
    "else:\n",
    "    print('invalid choice..')\n",
    "\n",
    "\n",
    "def fahrenheitToKelvin(F):\n",
    "    print(F)\n",
    "    return 273.5 + ((F - 32.0) * (5.0/9.0))\n",
    "\n",
    "\n",
    "def KelvinToCelsius(k):\n",
    "    f = 273.5 + ((k - 32.0) * (5.0/9.0))\n",
    "    return (f+273.15)\n",
    "\n",
    "\n"
   ]
  },
  {
   "cell_type": "code",
   "execution_count": 41,
   "metadata": {},
   "outputs": [
    {
     "name": "stdout",
     "output_type": "stream",
     "text": [
      "Enter the temperature in fahrenheit: 100\n",
      "Enter the choice, k for Kelvin or c for Celsius: K\n",
      "Sorry!! K is an invalid choice..\n"
     ]
    }
   ],
   "source": [
    "#Question 5: Write a program to convert fahrenheit to kelvin and celsius both.\n",
    "\n",
    "def fahrenheit_To_Kelvin(f):\n",
    "    return 273.5 + ((f - 32.0) * (5.0/9.0))\n",
    "\n",
    "\n",
    "def Kelvin_To_Celsius(k):\n",
    "    return (k-273.15)\n",
    "\n",
    "\n",
    "temp = int(input('Enter the temperature in fahrenheit: '))\n",
    "choice = input('Enter the choice, k for Kelvin or c for Celsius: ')\n",
    "\n",
    "\n",
    "if (choice == 'k'):\n",
    "    print('Temperature in kelvin is: ',fahrenheit_To_Kelvin(temp))\n",
    "elif (choice == 'c'):\n",
    "    print('Temperature in Celsius is: ',Kelvin_To_Celsius(fahrenheit_To_Kelvin(temp)))\n",
    "    \n",
    "else:\n",
    "    print('Sorry!!..',choice,'is an invalid choice..')\n",
    "\n",
    "\n",
    "\n"
   ]
  },
  {
   "cell_type": "code",
   "execution_count": 56,
   "metadata": {},
   "outputs": [
    {
     "name": "stdout",
     "output_type": "stream",
     "text": [
      "type of a is: <class 'int'>\n",
      "type of name is: <class 'str'>\n",
      "type of compType is: <class 'complex'>\n",
      "type of b is: <class 'float'>\n",
      "type of bolType is: <class 'bool'>\n",
      "type of intergerList is: <class 'list'>\n",
      "type of stringtuple is: <class 'tuple'>\n",
      "type of stringtuple is: <class 'tuple'>\n",
      "type of typeSet is: <class 'set'>\n",
      "type of typeDictionary is: <class 'dict'>\n"
     ]
    }
   ],
   "source": [
    "# Question 6: Write a program to demonstrate all the available data types in Python. using type()\n",
    "\n",
    "a= 5\n",
    "print('type of a is:',type(a))\n",
    "name = \"Sujay\"\n",
    "print('type of name is:',type(name))\n",
    "compType = 5+6j\n",
    "print('type of compType is:',type(compType))\n",
    "b= 24.55\n",
    "print('type of b is:',type(b))\n",
    "bolType= (a==5)\n",
    "print('type of bolType is:', type(bolType))\n",
    "intergerList= [1,2,3,4,5]\n",
    "print('type of intergerList is:', type(intergerList))\n",
    "stringtuple= ('Sujay','Atharv','Appu','Munna')\n",
    "print('type of stringtuple is:', type(stringtuple))\n",
    "stringtuple= ('Sujay','Atharv','Appu','Munna')\n",
    "print('type of stringtuple is:', type(stringtuple))\n",
    "typeSet = {'true','false',1,'Raju'}\n",
    "print('type of typeSet is:', type(typeSet))\n",
    "typeDictionary = {1:'Atharv',2:2,3:(3+4j)}\n",
    "print('type of typeDictionary is:', type(typeDictionary))"
   ]
  },
  {
   "cell_type": "markdown",
   "metadata": {},
   "source": [
    "#Question 7: Create a Markdown cell in jupyter and list the steps discussed in the session by Dr. Darshan Ingle sir to create Github profile and upload Githubs Assignment link.\n",
    "\n",
    "# How to create GIThub profile\n",
    "<ol>\n",
    "    <li>Create a Github public repo and name it LetsUpgrade AI/ML</li>\n",
    "    <li>Upload the files/solution in the repo in day wise manner.</li>\n",
    "    <li>Copy the URL of the Folder of that day and paste in the Assignment Submission Form (Google Form)</li>\n",
    "    <li>Make sure you are filling correct details in the Assignment Submission Form.</li>\n",
    "    <li>All the drop-downs will be available till the week end only. i.e Previous weeks drop-down will disappear on each Sunday 11:59 PM</li>\n",
    "</ol>"
   ]
  }
 ],
 "metadata": {
  "kernelspec": {
   "display_name": "Python 3",
   "language": "python",
   "name": "python3"
  },
  "language_info": {
   "codemirror_mode": {
    "name": "ipython",
    "version": 3
   },
   "file_extension": ".py",
   "mimetype": "text/x-python",
   "name": "python",
   "nbconvert_exporter": "python",
   "pygments_lexer": "ipython3",
   "version": "3.7.0"
  }
 },
 "nbformat": 4,
 "nbformat_minor": 2
}
